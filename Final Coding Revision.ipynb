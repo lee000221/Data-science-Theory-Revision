{
 "cells": [
  {
   "cell_type": "markdown",
   "metadata": {},
   "source": [
    "# Final Exam: Practical Assessment"
   ]
  },
  {
   "cell_type": "markdown",
   "metadata": {},
   "source": [
    "These are test questions in which students are given a duration of 1 hour to answer from the time the question is given. Lab Assessment based on Superstore dataset. The dataset will be provided to the students. Provide the code and the output in Jupyter Notebook."
   ]
  },
  {
   "cell_type": "markdown",
   "metadata": {},
   "source": [
    "Name:\n"
   ]
  },
  {
   "cell_type": "markdown",
   "metadata": {},
   "source": [
    "Student ID:"
   ]
  },
  {
   "cell_type": "markdown",
   "metadata": {},
   "source": [
    "1) Create a data frame that contains all the data from Superstore.xlsx.          (1 mark)"
   ]
  },
  {
   "cell_type": "code",
   "execution_count": 1,
   "metadata": {},
   "outputs": [
    {
     "name": "stdout",
     "output_type": "stream",
     "text": [
      "<class 'pandas.core.frame.DataFrame'>\n"
     ]
    },
    {
     "data": {
      "text/html": [
       "<div>\n",
       "<style scoped>\n",
       "    .dataframe tbody tr th:only-of-type {\n",
       "        vertical-align: middle;\n",
       "    }\n",
       "\n",
       "    .dataframe tbody tr th {\n",
       "        vertical-align: top;\n",
       "    }\n",
       "\n",
       "    .dataframe thead th {\n",
       "        text-align: right;\n",
       "    }\n",
       "</style>\n",
       "<table border=\"1\" class=\"dataframe\">\n",
       "  <thead>\n",
       "    <tr style=\"text-align: right;\">\n",
       "      <th></th>\n",
       "      <th>Country</th>\n",
       "      <th>Postal Code</th>\n",
       "      <th>Product ID</th>\n",
       "      <th>Category</th>\n",
       "      <th>Sales</th>\n",
       "      <th>Shipping Cost</th>\n",
       "      <th>Order Priority</th>\n",
       "    </tr>\n",
       "  </thead>\n",
       "  <tbody>\n",
       "    <tr>\n",
       "      <th>0</th>\n",
       "      <td>0</td>\n",
       "      <td>1</td>\n",
       "      <td>10024</td>\n",
       "      <td>1</td>\n",
       "      <td>Technology</td>\n",
       "      <td>2309.650</td>\n",
       "      <td>High</td>\n",
       "    </tr>\n",
       "    <tr>\n",
       "      <th>1</th>\n",
       "      <td>8</td>\n",
       "      <td>1</td>\n",
       "      <td>95823</td>\n",
       "      <td>9</td>\n",
       "      <td>Office Supplies</td>\n",
       "      <td>5083.960</td>\n",
       "      <td>High</td>\n",
       "    </tr>\n",
       "    <tr>\n",
       "      <th>2</th>\n",
       "      <td>9</td>\n",
       "      <td>1</td>\n",
       "      <td>28027</td>\n",
       "      <td>10</td>\n",
       "      <td>Furniture</td>\n",
       "      <td>4297.644</td>\n",
       "      <td>Critical</td>\n",
       "    </tr>\n",
       "  </tbody>\n",
       "</table>\n",
       "</div>"
      ],
      "text/plain": [
       "   Country  Postal Code  Product ID  Category            Sales  Shipping Cost  \\\n",
       "0        0            1       10024         1       Technology       2309.650   \n",
       "1        8            1       95823         9  Office Supplies       5083.960   \n",
       "2        9            1       28027        10        Furniture       4297.644   \n",
       "\n",
       "  Order Priority  \n",
       "0           High  \n",
       "1           High  \n",
       "2       Critical  "
      ]
     },
     "execution_count": 1,
     "metadata": {},
     "output_type": "execute_result"
    }
   ],
   "source": [
    "import pandas as pd\n",
    "df = pd.read_excel('Superstore.xlsx')\n",
    "print(type(df))\n",
    "df.head(3)"
   ]
  },
  {
   "cell_type": "code",
   "execution_count": null,
   "metadata": {},
   "outputs": [],
   "source": [
    "# df = df.drop(['Order ID','Order Date','Row ID','Ship Date','Customer Name','Customer ID','Product ID','Postal Code','Sub-Category','Product Name'],axis=1)\n",
    "# df = df.drop(['Unnamed: 21','Unnamed: 22','Unnamed: 23'],axis=1)"
   ]
  },
  {
   "cell_type": "markdown",
   "metadata": {},
   "source": [
    "2) Show only the following columns from the data frame that you have created in question(1):- Country, category and product id. (1 mark)                                            "
   ]
  },
  {
   "cell_type": "code",
   "execution_count": null,
   "metadata": {},
   "outputs": [],
   "source": [
    "df1 = df[['Country', 'Product ID','Category']]"
   ]
  },
  {
   "cell_type": "code",
   "execution_count": null,
   "metadata": {},
   "outputs": [],
   "source": [
    "#### Question 2\n",
    "#Count the number of customers who made payment via credit card, cheque and cash. (2 marks)"
   ]
  },
  {
   "cell_type": "code",
   "execution_count": null,
   "metadata": {},
   "outputs": [],
   "source": [
    "# Method 2\n",
    "#df['Payment Method'].value_counts()"
   ]
  },
  {
   "cell_type": "markdown",
   "metadata": {},
   "source": [
    "3) Count the number of product ID with high order priority.                     (2 marks)"
   ]
  },
  {
   "cell_type": "code",
   "execution_count": 10,
   "metadata": {},
   "outputs": [
    {
     "data": {
      "text/plain": [
       "2"
      ]
     },
     "execution_count": 10,
     "metadata": {},
     "output_type": "execute_result"
    }
   ],
   "source": [
    "len(df.loc[df['Order Priority'] == 'High'])"
   ]
  },
  {
   "cell_type": "code",
   "execution_count": 12,
   "metadata": {},
   "outputs": [
    {
     "data": {
      "text/plain": [
       "2"
      ]
     },
     "execution_count": 12,
     "metadata": {},
     "output_type": "execute_result"
    }
   ],
   "source": [
    "# Method 2\n",
    "len(df[df['Order Priority'] == 'High'])"
   ]
  },
  {
   "cell_type": "code",
   "execution_count": 16,
   "metadata": {},
   "outputs": [
    {
     "data": {
      "text/plain": [
       "High    2\n",
       "Name: Order Priority, dtype: int64"
      ]
     },
     "execution_count": 16,
     "metadata": {},
     "output_type": "execute_result"
    }
   ],
   "source": [
    "# Method 3\n",
    "df['Order Priority'][df['Order Priority']=='High'].value_counts()"
   ]
  },
  {
   "cell_type": "markdown",
   "metadata": {},
   "source": [
    "Question 3\n",
    "Plot a graph with different payment methods. Y-axis should represent the different types of payment methods, X-axis as Number of Customers. The title of the graph should be \"Payment Methods\" (2 marks)"
   ]
  },
  {
   "cell_type": "code",
   "execution_count": null,
   "metadata": {},
   "outputs": [],
   "source": [
    "# import matplotlib.pyplot as plt\n",
    "\n",
    "# df['Payment Method'].value_counts().plot.bar()\n",
    "# plt.xlabel('Different types of payment methods')\n",
    "# plt.ylabel('Number of Customers')\n",
    "# plt.title('Payment Methods')\n",
    "# plt.show()"
   ]
  },
  {
   "cell_type": "markdown",
   "metadata": {},
   "source": [
    "4) Plot a graph with different order priority. X-axis should represent the different types of order priority, y-axis as Number of Products. The title of the graph should be \"Order Priority by Products\".                                                           (2 marks)"
   ]
  },
  {
   "cell_type": "code",
   "execution_count": 17,
   "metadata": {},
   "outputs": [
    {
     "data": {
      "text/plain": [
       "[Text(0.5, 1.0, 'Order Priority by Products')]"
      ]
     },
     "execution_count": 17,
     "metadata": {},
     "output_type": "execute_result"
    },
    {
     "data": {
      "image/png": "[encoded data removed]",
      "text/plain": [
       "<Figure size 432x288 with 1 Axes>"
      ]
     },
     "metadata": {
      "needs_background": "light"
     },
     "output_type": "display_data"
    }
   ],
   "source": [
    "import seaborn as sns;\n",
    "sns.histplot(data=df,x=df[\"Order Priority\"]).set(title='Order Priority by Products')"
   ]
  },
  {
   "cell_type": "code",
   "execution_count": 18,
   "metadata": {},
   "outputs": [
    {
     "data": {
      "image/png": "[encoded data removed]",
      "text/plain": [
       "<Figure size 432x288 with 1 Axes>"
      ]
     },
     "metadata": {
      "needs_background": "light"
     },
     "output_type": "display_data"
    }
   ],
   "source": [
    "# Method 2\n",
    "import matplotlib.pyplot as plt\n",
    "\n",
    "df['Order Priority'].value_counts().plot.bar()\n",
    "plt.xlabel('different types of order priority')\n",
    "plt.ylabel('Number of Products')\n",
    "plt.title('Order Priority by Products')\n",
    "plt.show()"
   ]
  },
  {
   "cell_type": "markdown",
   "metadata": {},
   "source": [
    "5. Normalize Shipping Cost to a range of 0 to 1. (2 marks)"
   ]
  },
  {
   "cell_type": "code",
   "execution_count": 30,
   "metadata": {},
   "outputs": [
    {
     "data": {
      "text/html": [
       "<div>\n",
       "<style scoped>\n",
       "    .dataframe tbody tr th:only-of-type {\n",
       "        vertical-align: middle;\n",
       "    }\n",
       "\n",
       "    .dataframe tbody tr th {\n",
       "        vertical-align: top;\n",
       "    }\n",
       "\n",
       "    .dataframe thead th {\n",
       "        text-align: right;\n",
       "    }\n",
       "</style>\n",
       "<table border=\"1\" class=\"dataframe\">\n",
       "  <thead>\n",
       "    <tr style=\"text-align: right;\">\n",
       "      <th></th>\n",
       "      <th>Country</th>\n",
       "      <th>Postal Code</th>\n",
       "      <th>Product ID</th>\n",
       "      <th>Category</th>\n",
       "      <th>Sales</th>\n",
       "      <th>Shipping Cost</th>\n",
       "      <th>Order Priority</th>\n",
       "    </tr>\n",
       "  </thead>\n",
       "  <tbody>\n",
       "    <tr>\n",
       "      <th>0</th>\n",
       "      <td>0</td>\n",
       "      <td>1</td>\n",
       "      <td>10024</td>\n",
       "      <td>1</td>\n",
       "      <td>0</td>\n",
       "      <td>0.253052</td>\n",
       "      <td>0</td>\n",
       "    </tr>\n",
       "    <tr>\n",
       "      <th>1</th>\n",
       "      <td>8</td>\n",
       "      <td>1</td>\n",
       "      <td>95823</td>\n",
       "      <td>9</td>\n",
       "      <td>1</td>\n",
       "      <td>1.000000</td>\n",
       "      <td>0</td>\n",
       "    </tr>\n",
       "    <tr>\n",
       "      <th>2</th>\n",
       "      <td>9</td>\n",
       "      <td>1</td>\n",
       "      <td>28027</td>\n",
       "      <td>10</td>\n",
       "      <td>2</td>\n",
       "      <td>0.788294</td>\n",
       "      <td>1</td>\n",
       "    </tr>\n",
       "    <tr>\n",
       "      <th>3</th>\n",
       "      <td>10</td>\n",
       "      <td>1</td>\n",
       "      <td>22304</td>\n",
       "      <td>11</td>\n",
       "      <td>1</td>\n",
       "      <td>0.752326</td>\n",
       "      <td>2</td>\n",
       "    </tr>\n",
       "    <tr>\n",
       "      <th>4</th>\n",
       "      <td>16</td>\n",
       "      <td>1</td>\n",
       "      <td>42420</td>\n",
       "      <td>17</td>\n",
       "      <td>0</td>\n",
       "      <td>0.236968</td>\n",
       "      <td>2</td>\n",
       "    </tr>\n",
       "    <tr>\n",
       "      <th>5</th>\n",
       "      <td>439</td>\n",
       "      <td>3</td>\n",
       "      <td>36608</td>\n",
       "      <td>440</td>\n",
       "      <td>0</td>\n",
       "      <td>0.449690</td>\n",
       "      <td>3</td>\n",
       "    </tr>\n",
       "    <tr>\n",
       "      <th>6</th>\n",
       "      <td>444</td>\n",
       "      <td>1</td>\n",
       "      <td>22153</td>\n",
       "      <td>445</td>\n",
       "      <td>0</td>\n",
       "      <td>0.573520</td>\n",
       "      <td>3</td>\n",
       "    </tr>\n",
       "    <tr>\n",
       "      <th>7</th>\n",
       "      <td>481</td>\n",
       "      <td>1</td>\n",
       "      <td>18018</td>\n",
       "      <td>482</td>\n",
       "      <td>1</td>\n",
       "      <td>0.000000</td>\n",
       "      <td>3</td>\n",
       "    </tr>\n",
       "    <tr>\n",
       "      <th>8</th>\n",
       "      <td>490</td>\n",
       "      <td>1</td>\n",
       "      <td>98226</td>\n",
       "      <td>491</td>\n",
       "      <td>2</td>\n",
       "      <td>0.348893</td>\n",
       "      <td>3</td>\n",
       "    </tr>\n",
       "    <tr>\n",
       "      <th>9</th>\n",
       "      <td>496</td>\n",
       "      <td>4</td>\n",
       "      <td>10035</td>\n",
       "      <td>497</td>\n",
       "      <td>0</td>\n",
       "      <td>0.090228</td>\n",
       "      <td>3</td>\n",
       "    </tr>\n",
       "  </tbody>\n",
       "</table>\n",
       "</div>"
      ],
      "text/plain": [
       "   Country  Postal Code  Product ID  Category  Sales  Shipping Cost  \\\n",
       "0        0            1       10024         1      0       0.253052   \n",
       "1        8            1       95823         9      1       1.000000   \n",
       "2        9            1       28027        10      2       0.788294   \n",
       "3       10            1       22304        11      1       0.752326   \n",
       "4       16            1       42420        17      0       0.236968   \n",
       "5      439            3       36608       440      0       0.449690   \n",
       "6      444            1       22153       445      0       0.573520   \n",
       "7      481            1       18018       482      1       0.000000   \n",
       "8      490            1       98226       491      2       0.348893   \n",
       "9      496            4       10035       497      0       0.090228   \n",
       "\n",
       "   Order Priority  \n",
       "0               0  \n",
       "1               0  \n",
       "2               1  \n",
       "3               2  \n",
       "4               2  \n",
       "5               3  \n",
       "6               3  \n",
       "7               3  \n",
       "8               3  \n",
       "9               3  "
      ]
     },
     "execution_count": 33,
     "metadata": {},
     "output_type": "execute_result"
    }
   ],
   "source": [
    "import numpy as np\n",
    "sc = df['Shipping Cost']\n",
    "def NormalizeData(data):\n",
    "    return (data - np.min(data)) / (np.max(data) - np.min(data))\n",
    "\n",
    "scaled_x = NormalizeData(sc)\n",
    "\n",
    "print(scaled_x)"
   ]
  },
  {
   "cell_type": "code",
   "execution_count": 31,
   "metadata": {},
   "outputs": [
    {
     "data": {
      "text/html": [
       "<div>\n",
       "<style scoped>\n",
       "    .dataframe tbody tr th:only-of-type {\n",
       "        vertical-align: middle;\n",
       "    }\n",
       "\n",
       "    .dataframe tbody tr th {\n",
       "        vertical-align: top;\n",
       "    }\n",
       "\n",
       "    .dataframe thead th {\n",
       "        text-align: right;\n",
       "    }\n",
       "</style>\n",
       "<table border=\"1\" class=\"dataframe\">\n",
       "  <thead>\n",
       "    <tr style=\"text-align: right;\">\n",
       "      <th></th>\n",
       "      <th>Country</th>\n",
       "      <th>Postal Code</th>\n",
       "      <th>Product ID</th>\n",
       "      <th>Category</th>\n",
       "      <th>Sales</th>\n",
       "      <th>Shipping Cost</th>\n",
       "      <th>Order Priority</th>\n",
       "    </tr>\n",
       "  </thead>\n",
       "  <tbody>\n",
       "    <tr>\n",
       "      <th>0</th>\n",
       "      <td>0</td>\n",
       "      <td>1</td>\n",
       "      <td>10024</td>\n",
       "      <td>1</td>\n",
       "      <td>0</td>\n",
       "      <td>0.253052</td>\n",
       "      <td>0</td>\n",
       "    </tr>\n",
       "    <tr>\n",
       "      <th>1</th>\n",
       "      <td>8</td>\n",
       "      <td>1</td>\n",
       "      <td>95823</td>\n",
       "      <td>9</td>\n",
       "      <td>1</td>\n",
       "      <td>1.000000</td>\n",
       "      <td>0</td>\n",
       "    </tr>\n",
       "    <tr>\n",
       "      <th>2</th>\n",
       "      <td>9</td>\n",
       "      <td>1</td>\n",
       "      <td>28027</td>\n",
       "      <td>10</td>\n",
       "      <td>2</td>\n",
       "      <td>0.788294</td>\n",
       "      <td>1</td>\n",
       "    </tr>\n",
       "    <tr>\n",
       "      <th>3</th>\n",
       "      <td>10</td>\n",
       "      <td>1</td>\n",
       "      <td>22304</td>\n",
       "      <td>11</td>\n",
       "      <td>1</td>\n",
       "      <td>0.752326</td>\n",
       "      <td>2</td>\n",
       "    </tr>\n",
       "    <tr>\n",
       "      <th>4</th>\n",
       "      <td>16</td>\n",
       "      <td>1</td>\n",
       "      <td>42420</td>\n",
       "      <td>17</td>\n",
       "      <td>0</td>\n",
       "      <td>0.236968</td>\n",
       "      <td>2</td>\n",
       "    </tr>\n",
       "    <tr>\n",
       "      <th>5</th>\n",
       "      <td>439</td>\n",
       "      <td>3</td>\n",
       "      <td>36608</td>\n",
       "      <td>440</td>\n",
       "      <td>0</td>\n",
       "      <td>0.449690</td>\n",
       "      <td>3</td>\n",
       "    </tr>\n",
       "    <tr>\n",
       "      <th>6</th>\n",
       "      <td>444</td>\n",
       "      <td>1</td>\n",
       "      <td>22153</td>\n",
       "      <td>445</td>\n",
       "      <td>0</td>\n",
       "      <td>0.573520</td>\n",
       "      <td>3</td>\n",
       "    </tr>\n",
       "    <tr>\n",
       "      <th>7</th>\n",
       "      <td>481</td>\n",
       "      <td>1</td>\n",
       "      <td>18018</td>\n",
       "      <td>482</td>\n",
       "      <td>1</td>\n",
       "      <td>0.000000</td>\n",
       "      <td>3</td>\n",
       "    </tr>\n",
       "    <tr>\n",
       "      <th>8</th>\n",
       "      <td>490</td>\n",
       "      <td>1</td>\n",
       "      <td>98226</td>\n",
       "      <td>491</td>\n",
       "      <td>2</td>\n",
       "      <td>0.348893</td>\n",
       "      <td>3</td>\n",
       "    </tr>\n",
       "    <tr>\n",
       "      <th>9</th>\n",
       "      <td>496</td>\n",
       "      <td>4</td>\n",
       "      <td>10035</td>\n",
       "      <td>497</td>\n",
       "      <td>0</td>\n",
       "      <td>0.090228</td>\n",
       "      <td>3</td>\n",
       "    </tr>\n",
       "  </tbody>\n",
       "</table>\n",
       "</div>"
      ],
      "text/plain": [
       "   Country  Postal Code  Product ID  Category  Sales  Shipping Cost  \\\n",
       "0        0            1       10024         1      0       0.253052   \n",
       "1        8            1       95823         9      1       1.000000   \n",
       "2        9            1       28027        10      2       0.788294   \n",
       "3       10            1       22304        11      1       0.752326   \n",
       "4       16            1       42420        17      0       0.236968   \n",
       "5      439            3       36608       440      0       0.449690   \n",
       "6      444            1       22153       445      0       0.573520   \n",
       "7      481            1       18018       482      1       0.000000   \n",
       "8      490            1       98226       491      2       0.348893   \n",
       "9      496            4       10035       497      0       0.090228   \n",
       "\n",
       "   Order Priority  \n",
       "0               0  \n",
       "1               0  \n",
       "2               1  \n",
       "3               2  \n",
       "4               2  \n",
       "5               3  \n",
       "6               3  \n",
       "7               3  \n",
       "8               3  \n",
       "9               3  "
      ]
     },
     "execution_count": 31,
     "metadata": {},
     "output_type": "execute_result"
    }
   ],
   "source": [
    "# Method 2\n",
    "import numpy as np\n",
    "from sklearn import preprocessing\n",
    "from sklearn.preprocessing import MinMaxScaler\n",
    "x=np.array(df[\"Shipping Cost\"]).reshape(-1,1)\n",
    "min_max_scaler=preprocessing.MinMaxScaler()\n",
    "x_minmax=min_max_scaler.fit_transform(x)\n",
    "#print(x_minmax)\n",
    "df[\"Shipping Cost\"]=x_minmax.reshape(-1,1)\n",
    "df"
   ]
  },
  {
   "cell_type": "markdown",
   "metadata": {},
   "source": [
    "5) Drop rows with 1 or more missing values.                                 (2 marks)"
   ]
  },
  {
   "cell_type": "code",
   "execution_count": 19,
   "metadata": {},
   "outputs": [
    {
     "name": "stdout",
     "output_type": "stream",
     "text": [
      "Country           0\n",
      "Postal Code       0\n",
      "Product ID        0\n",
      "Category          0\n",
      "Sales             0\n",
      "Shipping Cost     0\n",
      "Order Priority    0\n",
      "dtype: int64\n"
     ]
    },
    {
     "data": {
      "text/plain": [
       "Country           0\n",
       "Postal Code       0\n",
       "Product ID        0\n",
       "Category          0\n",
       "Sales             0\n",
       "Shipping Cost     0\n",
       "Order Priority    0\n",
       "dtype: int64"
      ]
     },
     "execution_count": 19,
     "metadata": {},
     "output_type": "execute_result"
    }
   ],
   "source": [
    "missing_values=df.isnull().sum()\n",
    "print(missing_values)\n",
    "\n",
    "missing = df[df['Postal Code'].isnull()].index\n",
    "df = df.drop(missing)\n",
    "df.isnull().sum()"
   ]
  },
  {
   "cell_type": "code",
   "execution_count": null,
   "metadata": {},
   "outputs": [],
   "source": [
    "# Method 2\n",
    "df = df.dropna()\n",
    "df"
   ]
  },
  {
   "cell_type": "markdown",
   "metadata": {},
   "source": [
    "6) Replace the following values of Order Priority. Low and Medium values to \"no\", High and Critical values to \"yes\". (Low->no, Medium->no, High->yes, Critical->yes).                                                                                                          (2 marks)"
   ]
  },
  {
   "cell_type": "code",
   "execution_count": null,
   "metadata": {},
   "outputs": [],
   "source": [
    "# Question 6¶\n",
    "# Replace the following values of Payment method (2 marks)\n",
    "\n",
    "# 0-credit card\n",
    "# 1-cheque\n",
    "# 2-cash\n",
    "# df.replace('credit card','0',inplace=True)\n",
    "# df.replace('cheque','1',inplace=True)\n",
    "# df.replace('cash','2',inplace=True)\n",
    "# df"
   ]
  },
  {
   "cell_type": "code",
   "execution_count": null,
   "metadata": {},
   "outputs": [],
   "source": [
    "df['Order Priority'] = df['Order Priority'].replace(['Low','Medium','High','Critical'],['No','No','Yes','Yes'])\n",
    "df"
   ]
  },
  {
   "cell_type": "code",
   "execution_count": null,
   "metadata": {},
   "outputs": [],
   "source": [
    "#Method 2\n",
    "df['Order Priority'] = df['Order Priority'].replace(['Low','Medium'],'no')\n",
    "df['Order Priority'] = df['Order Priority'].replace(['High','Critical'],'yes')\n",
    "df"
   ]
  },
  {
   "cell_type": "markdown",
   "metadata": {},
   "source": [
    "7) Write the cleaned data into \"Cleaned.csv\".                                                  (1 mark)"
   ]
  },
  {
   "cell_type": "code",
   "execution_count": null,
   "metadata": {},
   "outputs": [],
   "source": [
    "df.to_csv('Cleaned.csv',index = False)\n",
    "#df.to_csv('Cleaned.csv')"
   ]
  },
  {
   "cell_type": "markdown",
   "metadata": {},
   "source": [
    "8) Read the data from \"Cleaned.csv\" into a data frame.                                  (1 mark)\n"
   ]
  },
  {
   "cell_type": "code",
   "execution_count": null,
   "metadata": {},
   "outputs": [],
   "source": [
    "import pandas as pd\n",
    "df2 = pd.read_csv('Cleaned.csv')\n",
    "df2"
   ]
  },
  {
   "cell_type": "markdown",
   "metadata": {},
   "source": [
    "9) You are required to predict the order priority (yes or no). Train the data that you have cleaned until question (8) by using GaussianNB model. The training size is 80% and testing is 20%. Use split validation.                                             (6 marks)"
   ]
  },
  {
   "cell_type": "code",
   "execution_count": 24,
   "metadata": {},
   "outputs": [],
   "source": [
    "cat_features = df.select_dtypes(include=['object']).columns.tolist()\n",
    "df[cat_features] = df[cat_features].apply(lambda x: pd.factorize(x)[0])"
   ]
  },
  {
   "cell_type": "code",
   "execution_count": 25,
   "metadata": {},
   "outputs": [
    {
     "name": "stdout",
     "output_type": "stream",
     "text": [
      " X_shape: (10, 6) \n",
      " y_shape: (10,)\n"
     ]
    }
   ],
   "source": [
    "#X = df.drop(['Order Priority','Category'], axis=1)\n",
    "X = df.drop(['Order Priority'], axis=1)\n",
    "\n",
    "y = df[\"Order Priority\"]\n",
    "print(f' X_shape: {X.shape} \\n y_shape: {y.shape}')"
   ]
  },
  {
   "cell_type": "code",
   "execution_count": 26,
   "metadata": {},
   "outputs": [],
   "source": [
    "from sklearn.model_selection import train_test_split\n",
    "#Xtrain, Xtest, ytrain, ytest = train_test_split(X_df, Y_df,random_state=123, test_size=0.2)\n",
    "X_train, X_test, y_train, y_test = train_test_split(X,y,test_size=0.20,shuffle=True,random_state=0)"
   ]
  },
  {
   "cell_type": "code",
   "execution_count": null,
   "metadata": {},
   "outputs": [],
   "source": [
    "# from sklearn.naive_bayes import GaussianNB # 1. choose model class\n",
    "# model = GaussianNB()                       # 2. instantiate model\n",
    "# model.fit(Xtrain, ytrain)                  # 3. fit model to data\n",
    "# y_model = model.predict(Xtest)             # 4. predict on new data\n",
    "# y_model"
   ]
  },
  {
   "cell_type": "code",
   "execution_count": 28,
   "metadata": {},
   "outputs": [
    {
     "data": {
      "text/plain": [
       "array([2, 3], dtype=int64)"
      ]
     },
     "execution_count": 28,
     "metadata": {},
     "output_type": "execute_result"
    }
   ],
   "source": [
    "from sklearn.naive_bayes import GaussianNB\n",
    "\n",
    "model_gnb = GaussianNB()\n",
    "model_gnb.fit(X_train,y_train)\n",
    "pred = model_gnb.predict(X_test)\n",
    "pred"
   ]
  },
  {
   "cell_type": "markdown",
   "metadata": {},
   "source": [
    "10) What is the accuracy score of your test data?\t\t\t            (2 marks)"
   ]
  },
  {
   "cell_type": "code",
   "execution_count": 29,
   "metadata": {},
   "outputs": [
    {
     "data": {
      "text/html": [
       "<div>\n",
       "<style scoped>\n",
       "    .dataframe tbody tr th:only-of-type {\n",
       "        vertical-align: middle;\n",
       "    }\n",
       "\n",
       "    .dataframe tbody tr th {\n",
       "        vertical-align: top;\n",
       "    }\n",
       "\n",
       "    .dataframe thead th {\n",
       "        text-align: right;\n",
       "    }\n",
       "</style>\n",
       "<table border=\"1\" class=\"dataframe\">\n",
       "  <thead>\n",
       "    <tr style=\"text-align: right;\">\n",
       "      <th></th>\n",
       "      <th>Accuracy</th>\n",
       "    </tr>\n",
       "  </thead>\n",
       "  <tbody>\n",
       "    <tr>\n",
       "      <th>GaussianNB</th>\n",
       "      <td>50.0</td>\n",
       "    </tr>\n",
       "  </tbody>\n",
       "</table>\n",
       "</div>"
      ],
      "text/plain": [
       "            Accuracy\n",
       "GaussianNB      50.0"
      ]
     },
     "execution_count": 29,
     "metadata": {},
     "output_type": "execute_result"
    }
   ],
   "source": [
    "from sklearn.metrics import accuracy_score\n",
    "#accuracy_score(ytest, y_model)\n",
    "gnb = accuracy_score(y_test,pred)*100\n",
    "acc = [gnb]\n",
    "labels = ['GaussianNB']\n",
    "accs = {'Accuracy': acc}\n",
    "df3 = pd.DataFrame(accs,index=labels)\n",
    "df3"
   ]
  },
  {
   "cell_type": "code",
   "execution_count": null,
   "metadata": {},
   "outputs": [],
   "source": []
  }
 ],
 "metadata": {
  "kernelspec": {
   "display_name": "Python 3 (ipykernel)",
   "language": "python",
   "name": "python3"
  },
  "language_info": {
   "codemirror_mode": {
    "name": "ipython",
    "version": 3
   },
   "file_extension": ".py",
   "mimetype": "text/x-python",
   "name": "python",
   "nbconvert_exporter": "python",
   "pygments_lexer": "ipython3",
   "version": "3.9.7"
  }
 },
 "nbformat": 4,
 "nbformat_minor": 4
}
