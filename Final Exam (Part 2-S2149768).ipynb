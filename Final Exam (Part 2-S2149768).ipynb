{
 "cells": [
  {
   "cell_type": "markdown",
   "id": "f5ac00c6",
   "metadata": {},
   "source": [
    "## WQD7003 - DATA ANALYTICS\n",
    "### FINAL EXAMINATION (Part 2)\n",
    "### ACADEMIC SESSION 2021/2022: SEMESTER 2\n"
   ]
  },
  {
   "cell_type": "markdown",
   "id": "1cc60016",
   "metadata": {},
   "source": [
    "#### Student Details: \n",
    "\n",
    "#### Student Name: Zhang Ziteng\n",
    "#### Student Matric Number: s2149768\n"
   ]
  },
  {
   "cell_type": "markdown",
   "id": "03be2a09",
   "metadata": {},
   "source": [
    "#### Questions Instructions: \n",
    "Lab Assessment based on Heart dataset. The dataset will be provided to the students.  You are required to write Python scripts in order to answer each of the questions. Your scripts should be written in  Jupyter notebook. The test duration is 1 hour and 15 minutes. (20 Marks)\n"
   ]
  },
  {
   "cell_type": "markdown",
   "id": "3ae98f7b",
   "metadata": {},
   "source": [
    "#### Question 1\n",
    "Create a data frame that contains all the data from Heart.csv                            (1 Mark)"
   ]
  },
  {
   "cell_type": "code",
   "execution_count": 1,
   "id": "3fbc7122",
   "metadata": {
    "tags": []
   },
   "outputs": [
    {
     "data": {
      "text/html": [
       "<div>\n",
       "<style scoped>\n",
       "    .dataframe tbody tr th:only-of-type {\n",
       "        vertical-align: middle;\n",
       "    }\n",
       "\n",
       "    .dataframe tbody tr th {\n",
       "        vertical-align: top;\n",
       "    }\n",
       "\n",
       "    .dataframe thead th {\n",
       "        text-align: right;\n",
       "    }\n",
       "</style>\n",
       "<table border=\"1\" class=\"dataframe\">\n",
       "  <thead>\n",
       "    <tr style=\"text-align: right;\">\n",
       "      <th></th>\n",
       "      <th>HeartDiseaseorAttack</th>\n",
       "      <th>HighBP</th>\n",
       "      <th>HighChol</th>\n",
       "      <th>CholCheck</th>\n",
       "      <th>BMI</th>\n",
       "      <th>Smoker</th>\n",
       "      <th>Stroke</th>\n",
       "      <th>Diabetes</th>\n",
       "      <th>PhysActivity</th>\n",
       "      <th>Age</th>\n",
       "      <th>Education</th>\n",
       "      <th>Income</th>\n",
       "    </tr>\n",
       "  </thead>\n",
       "  <tbody>\n",
       "    <tr>\n",
       "      <th>0</th>\n",
       "      <td>0</td>\n",
       "      <td>1</td>\n",
       "      <td>1</td>\n",
       "      <td>1</td>\n",
       "      <td>40</td>\n",
       "      <td>1</td>\n",
       "      <td>0</td>\n",
       "      <td>0</td>\n",
       "      <td>0</td>\n",
       "      <td>9</td>\n",
       "      <td>4</td>\n",
       "      <td>3</td>\n",
       "    </tr>\n",
       "    <tr>\n",
       "      <th>1</th>\n",
       "      <td>0</td>\n",
       "      <td>0</td>\n",
       "      <td>0</td>\n",
       "      <td>0</td>\n",
       "      <td>25</td>\n",
       "      <td>1</td>\n",
       "      <td>0</td>\n",
       "      <td>0</td>\n",
       "      <td>1</td>\n",
       "      <td>7</td>\n",
       "      <td>6</td>\n",
       "      <td>1</td>\n",
       "    </tr>\n",
       "    <tr>\n",
       "      <th>2</th>\n",
       "      <td>0</td>\n",
       "      <td>1</td>\n",
       "      <td>1</td>\n",
       "      <td>1</td>\n",
       "      <td>28</td>\n",
       "      <td>0</td>\n",
       "      <td>0</td>\n",
       "      <td>0</td>\n",
       "      <td>0</td>\n",
       "      <td>9</td>\n",
       "      <td>4</td>\n",
       "      <td>8</td>\n",
       "    </tr>\n",
       "  </tbody>\n",
       "</table>\n",
       "</div>"
      ],
      "text/plain": [
       "   HeartDiseaseorAttack  HighBP  HighChol  CholCheck  BMI  Smoker  Stroke  \\\n",
       "0                     0       1         1          1   40       1       0   \n",
       "1                     0       0         0          0   25       1       0   \n",
       "2                     0       1         1          1   28       0       0   \n",
       "\n",
       "   Diabetes  PhysActivity  Age  Education  Income  \n",
       "0         0             0    9          4       3  \n",
       "1         0             1    7          6       1  \n",
       "2         0             0    9          4       8  "
      ]
     },
     "execution_count": 1,
     "metadata": {},
     "output_type": "execute_result"
    }
   ],
   "source": [
    "import pandas as pd\n",
    "df = pd.read_csv('Heart.csv')\n",
    "# print(type(df))\n",
    "df.head(3)"
   ]
  },
  {
   "cell_type": "markdown",
   "id": "89cb14c1",
   "metadata": {},
   "source": [
    "#### Question 2\n",
    "State the total number of smokers assuming 1-Smoker and 0-Non smoker. (2 Marks)\n"
   ]
  },
  {
   "cell_type": "code",
   "execution_count": 2,
   "id": "e41add4f",
   "metadata": {
    "tags": []
   },
   "outputs": [
    {
     "data": {
      "text/plain": [
       "2240"
      ]
     },
     "execution_count": 2,
     "metadata": {},
     "output_type": "execute_result"
    }
   ],
   "source": [
    "len(df.loc[df['Smoker'] == 1])"
   ]
  },
  {
   "cell_type": "markdown",
   "id": "45b85a1e",
   "metadata": {},
   "source": [
    "#### Question 3\n",
    "Normalize BMI values to a range of 0 to 1\t(2 Marks)\n"
   ]
  },
  {
   "cell_type": "code",
   "execution_count": 4,
   "id": "58f0fcc2",
   "metadata": {
    "tags": []
   },
   "outputs": [
    {
     "name": "stdout",
     "output_type": "stream",
     "text": [
      "      HeartDiseaseorAttack  HighBP  HighChol  CholCheck       BMI  Smoker  \\\n",
      "0                        0       1         1          1  0.530612       1   \n",
      "1                        0       0         0          0  0.224490       1   \n",
      "2                        0       1         1          1  0.285714       0   \n",
      "3                        0       1         0          1  0.265306       0   \n",
      "4                        0       1         1          1  0.204082       0   \n",
      "...                    ...     ...       ...        ...       ...     ...   \n",
      "4995                     0       0         0          1  0.306122       0   \n",
      "4996                     0       0         0          0  0.204082       0   \n",
      "4997                     0       1         0          1  0.204082       1   \n",
      "4998                     0       1         1          1  0.387755       1   \n",
      "4999                     0       1         1          1  0.428571       0   \n",
      "\n",
      "      Stroke  Diabetes  PhysActivity  Age  Education  Income  \n",
      "0          0         0             0    9          4       3  \n",
      "1          0         0             1    7          6       1  \n",
      "2          0         0             0    9          4       8  \n",
      "3          0         0             1   11          3       6  \n",
      "4          0         0             1   11          5       4  \n",
      "...      ...       ...           ...  ...        ...     ...  \n",
      "4995       0         0             1    7          6       8  \n",
      "4996       0         0             1    3          4       8  \n",
      "4997       0         0             1   13          6       7  \n",
      "4998       0         2             1   12          6       8  \n",
      "4999       0         0             0   12          4       4  \n",
      "\n",
      "[5000 rows x 12 columns]\n"
     ]
    }
   ],
   "source": [
    "import numpy as np\n",
    "def NormalizeData(data):\n",
    "    return (data - np.min(data)) / (np.max(data) - np.min(data))\n",
    "\n",
    "nor_bmi = NormalizeData(df['BMI'])\n",
    "df['BMI'] = nor_bmi\n",
    "\n",
    "print(df)"
   ]
  },
  {
   "cell_type": "markdown",
   "id": "88ca4945",
   "metadata": {},
   "source": [
    "#### Question 4\n",
    "Create a line graph to view the BMI values\n",
    "(3 marks)"
   ]
  },
  {
   "cell_type": "code",
   "execution_count": 5,
   "id": "df100547",
   "metadata": {
    "tags": []
   },
   "outputs": [
    {
     "data": {
      "text/plain": [
       "<AxesSubplot:>"
      ]
     },
     "execution_count": 5,
     "metadata": {},
     "output_type": "execute_result"
    },
    {
     "data": {
      "image/png": "[encoded data removed]",
      "text/plain": [
       "<Figure size 432x288 with 1 Axes>"
      ]
     },
     "metadata": {
      "needs_background": "light"
     },
     "output_type": "display_data"
    }
   ],
   "source": [
    "import matplotlib.pyplot as plt\n",
    "df['BMI'].plot.line()"
   ]
  },
  {
   "cell_type": "markdown",
   "id": "eedd9cdb",
   "metadata": {},
   "source": [
    "#### Question 5\n",
    "Replace the following values of HeartDiseaseorAttack:\n",
    "- 0-No heart Disease\n",
    "- 1-With Heart Disease\t            \t\t\t\t\t \n",
    "                       (2 Marks)\n"
   ]
  },
  {
   "cell_type": "code",
   "execution_count": 6,
   "id": "b9947891-119f-4664-9aa6-7c58c4862897",
   "metadata": {},
   "outputs": [],
   "source": [
    "# a = len(df[df['HeartDiseaseorAttack'] == 0])\n",
    "# b = len(df[df['HeartDiseaseorAttack'] == 1])\n",
    "# a,b"
   ]
  },
  {
   "cell_type": "code",
   "execution_count": 7,
   "id": "cec61be0",
   "metadata": {
    "tags": []
   },
   "outputs": [
    {
     "data": {
      "text/html": [
       "<div>\n",
       "<style scoped>\n",
       "    .dataframe tbody tr th:only-of-type {\n",
       "        vertical-align: middle;\n",
       "    }\n",
       "\n",
       "    .dataframe tbody tr th {\n",
       "        vertical-align: top;\n",
       "    }\n",
       "\n",
       "    .dataframe thead th {\n",
       "        text-align: right;\n",
       "    }\n",
       "</style>\n",
       "<table border=\"1\" class=\"dataframe\">\n",
       "  <thead>\n",
       "    <tr style=\"text-align: right;\">\n",
       "      <th></th>\n",
       "      <th>HeartDiseaseorAttack</th>\n",
       "      <th>HighBP</th>\n",
       "      <th>HighChol</th>\n",
       "      <th>CholCheck</th>\n",
       "      <th>BMI</th>\n",
       "      <th>Smoker</th>\n",
       "      <th>Stroke</th>\n",
       "      <th>Diabetes</th>\n",
       "      <th>PhysActivity</th>\n",
       "      <th>Age</th>\n",
       "      <th>Education</th>\n",
       "      <th>Income</th>\n",
       "    </tr>\n",
       "  </thead>\n",
       "  <tbody>\n",
       "    <tr>\n",
       "      <th>0</th>\n",
       "      <td>no</td>\n",
       "      <td>1</td>\n",
       "      <td>1</td>\n",
       "      <td>1</td>\n",
       "      <td>0.530612</td>\n",
       "      <td>1</td>\n",
       "      <td>0</td>\n",
       "      <td>0</td>\n",
       "      <td>0</td>\n",
       "      <td>9</td>\n",
       "      <td>4</td>\n",
       "      <td>3</td>\n",
       "    </tr>\n",
       "    <tr>\n",
       "      <th>1</th>\n",
       "      <td>no</td>\n",
       "      <td>0</td>\n",
       "      <td>0</td>\n",
       "      <td>0</td>\n",
       "      <td>0.224490</td>\n",
       "      <td>1</td>\n",
       "      <td>0</td>\n",
       "      <td>0</td>\n",
       "      <td>1</td>\n",
       "      <td>7</td>\n",
       "      <td>6</td>\n",
       "      <td>1</td>\n",
       "    </tr>\n",
       "    <tr>\n",
       "      <th>2</th>\n",
       "      <td>no</td>\n",
       "      <td>1</td>\n",
       "      <td>1</td>\n",
       "      <td>1</td>\n",
       "      <td>0.285714</td>\n",
       "      <td>0</td>\n",
       "      <td>0</td>\n",
       "      <td>0</td>\n",
       "      <td>0</td>\n",
       "      <td>9</td>\n",
       "      <td>4</td>\n",
       "      <td>8</td>\n",
       "    </tr>\n",
       "    <tr>\n",
       "      <th>3</th>\n",
       "      <td>no</td>\n",
       "      <td>1</td>\n",
       "      <td>0</td>\n",
       "      <td>1</td>\n",
       "      <td>0.265306</td>\n",
       "      <td>0</td>\n",
       "      <td>0</td>\n",
       "      <td>0</td>\n",
       "      <td>1</td>\n",
       "      <td>11</td>\n",
       "      <td>3</td>\n",
       "      <td>6</td>\n",
       "    </tr>\n",
       "    <tr>\n",
       "      <th>4</th>\n",
       "      <td>no</td>\n",
       "      <td>1</td>\n",
       "      <td>1</td>\n",
       "      <td>1</td>\n",
       "      <td>0.204082</td>\n",
       "      <td>0</td>\n",
       "      <td>0</td>\n",
       "      <td>0</td>\n",
       "      <td>1</td>\n",
       "      <td>11</td>\n",
       "      <td>5</td>\n",
       "      <td>4</td>\n",
       "    </tr>\n",
       "    <tr>\n",
       "      <th>...</th>\n",
       "      <td>...</td>\n",
       "      <td>...</td>\n",
       "      <td>...</td>\n",
       "      <td>...</td>\n",
       "      <td>...</td>\n",
       "      <td>...</td>\n",
       "      <td>...</td>\n",
       "      <td>...</td>\n",
       "      <td>...</td>\n",
       "      <td>...</td>\n",
       "      <td>...</td>\n",
       "      <td>...</td>\n",
       "    </tr>\n",
       "    <tr>\n",
       "      <th>4995</th>\n",
       "      <td>no</td>\n",
       "      <td>0</td>\n",
       "      <td>0</td>\n",
       "      <td>1</td>\n",
       "      <td>0.306122</td>\n",
       "      <td>0</td>\n",
       "      <td>0</td>\n",
       "      <td>0</td>\n",
       "      <td>1</td>\n",
       "      <td>7</td>\n",
       "      <td>6</td>\n",
       "      <td>8</td>\n",
       "    </tr>\n",
       "    <tr>\n",
       "      <th>4996</th>\n",
       "      <td>no</td>\n",
       "      <td>0</td>\n",
       "      <td>0</td>\n",
       "      <td>0</td>\n",
       "      <td>0.204082</td>\n",
       "      <td>0</td>\n",
       "      <td>0</td>\n",
       "      <td>0</td>\n",
       "      <td>1</td>\n",
       "      <td>3</td>\n",
       "      <td>4</td>\n",
       "      <td>8</td>\n",
       "    </tr>\n",
       "    <tr>\n",
       "      <th>4997</th>\n",
       "      <td>no</td>\n",
       "      <td>1</td>\n",
       "      <td>0</td>\n",
       "      <td>1</td>\n",
       "      <td>0.204082</td>\n",
       "      <td>1</td>\n",
       "      <td>0</td>\n",
       "      <td>0</td>\n",
       "      <td>1</td>\n",
       "      <td>13</td>\n",
       "      <td>6</td>\n",
       "      <td>7</td>\n",
       "    </tr>\n",
       "    <tr>\n",
       "      <th>4998</th>\n",
       "      <td>no</td>\n",
       "      <td>1</td>\n",
       "      <td>1</td>\n",
       "      <td>1</td>\n",
       "      <td>0.387755</td>\n",
       "      <td>1</td>\n",
       "      <td>0</td>\n",
       "      <td>2</td>\n",
       "      <td>1</td>\n",
       "      <td>12</td>\n",
       "      <td>6</td>\n",
       "      <td>8</td>\n",
       "    </tr>\n",
       "    <tr>\n",
       "      <th>4999</th>\n",
       "      <td>no</td>\n",
       "      <td>1</td>\n",
       "      <td>1</td>\n",
       "      <td>1</td>\n",
       "      <td>0.428571</td>\n",
       "      <td>0</td>\n",
       "      <td>0</td>\n",
       "      <td>0</td>\n",
       "      <td>0</td>\n",
       "      <td>12</td>\n",
       "      <td>4</td>\n",
       "      <td>4</td>\n",
       "    </tr>\n",
       "  </tbody>\n",
       "</table>\n",
       "<p>5000 rows × 12 columns</p>\n",
       "</div>"
      ],
      "text/plain": [
       "     HeartDiseaseorAttack  HighBP  HighChol  CholCheck       BMI  Smoker  \\\n",
       "0                      no       1         1          1  0.530612       1   \n",
       "1                      no       0         0          0  0.224490       1   \n",
       "2                      no       1         1          1  0.285714       0   \n",
       "3                      no       1         0          1  0.265306       0   \n",
       "4                      no       1         1          1  0.204082       0   \n",
       "...                   ...     ...       ...        ...       ...     ...   \n",
       "4995                   no       0         0          1  0.306122       0   \n",
       "4996                   no       0         0          0  0.204082       0   \n",
       "4997                   no       1         0          1  0.204082       1   \n",
       "4998                   no       1         1          1  0.387755       1   \n",
       "4999                   no       1         1          1  0.428571       0   \n",
       "\n",
       "      Stroke  Diabetes  PhysActivity  Age  Education  Income  \n",
       "0          0         0             0    9          4       3  \n",
       "1          0         0             1    7          6       1  \n",
       "2          0         0             0    9          4       8  \n",
       "3          0         0             1   11          3       6  \n",
       "4          0         0             1   11          5       4  \n",
       "...      ...       ...           ...  ...        ...     ...  \n",
       "4995       0         0             1    7          6       8  \n",
       "4996       0         0             1    3          4       8  \n",
       "4997       0         0             1   13          6       7  \n",
       "4998       0         2             1   12          6       8  \n",
       "4999       0         0             0   12          4       4  \n",
       "\n",
       "[5000 rows x 12 columns]"
      ]
     },
     "execution_count": 7,
     "metadata": {},
     "output_type": "execute_result"
    }
   ],
   "source": [
    "df['HeartDiseaseorAttack'] = df['HeartDiseaseorAttack'].replace([0],'no')\n",
    "df['HeartDiseaseorAttack'] = df['HeartDiseaseorAttack'].replace([1],'yes')\n",
    "df"
   ]
  },
  {
   "cell_type": "code",
   "execution_count": 8,
   "id": "bd6f071a-d27a-49ea-8fa2-e6b11b0ae77f",
   "metadata": {},
   "outputs": [],
   "source": [
    "# a = len(df[df['HeartDiseaseorAttack'] == 'no'])\n",
    "# b = len(df[df['HeartDiseaseorAttack'] == 'yes'])\n",
    "# a,b"
   ]
  },
  {
   "cell_type": "markdown",
   "id": "0ce68df9",
   "metadata": {},
   "source": [
    "#### Question 6\n",
    "Do correlation analysis and perform dimensionality reduction accordingly. \n",
    "(Note: Your label is HeartDiseaseorAttack)\t\t\t\t\t\t  (5 Marks)\n"
   ]
  },
  {
   "cell_type": "code",
   "execution_count": 9,
   "id": "a3bb73ab-5cb5-418f-afce-acb5b0078b99",
   "metadata": {},
   "outputs": [],
   "source": [
    "# yes/no cant do correlation analysis with numbers\n",
    "# so transfer yes/no to 1/0\n",
    "cat_features = df.select_dtypes(include=['object']).columns.tolist()\n",
    "df[cat_features] = df[cat_features].apply(lambda x: pd.factorize(x)[0])"
   ]
  },
  {
   "cell_type": "code",
   "execution_count": 10,
   "id": "08a65f51-0e2a-4c0e-b714-ae076168f98a",
   "metadata": {},
   "outputs": [
    {
     "data": {
      "text/html": [
       "<div>\n",
       "<style scoped>\n",
       "    .dataframe tbody tr th:only-of-type {\n",
       "        vertical-align: middle;\n",
       "    }\n",
       "\n",
       "    .dataframe tbody tr th {\n",
       "        vertical-align: top;\n",
       "    }\n",
       "\n",
       "    .dataframe thead th {\n",
       "        text-align: right;\n",
       "    }\n",
       "</style>\n",
       "<table border=\"1\" class=\"dataframe\">\n",
       "  <thead>\n",
       "    <tr style=\"text-align: right;\">\n",
       "      <th></th>\n",
       "      <th>HeartDiseaseorAttack</th>\n",
       "      <th>HighBP</th>\n",
       "      <th>HighChol</th>\n",
       "      <th>CholCheck</th>\n",
       "      <th>BMI</th>\n",
       "      <th>Smoker</th>\n",
       "      <th>Stroke</th>\n",
       "      <th>Diabetes</th>\n",
       "      <th>PhysActivity</th>\n",
       "      <th>Age</th>\n",
       "      <th>Education</th>\n",
       "      <th>Income</th>\n",
       "    </tr>\n",
       "  </thead>\n",
       "  <tbody>\n",
       "    <tr>\n",
       "      <th>0</th>\n",
       "      <td>0</td>\n",
       "      <td>1</td>\n",
       "      <td>1</td>\n",
       "      <td>1</td>\n",
       "      <td>0.530612</td>\n",
       "      <td>1</td>\n",
       "      <td>0</td>\n",
       "      <td>0</td>\n",
       "      <td>0</td>\n",
       "      <td>9</td>\n",
       "      <td>4</td>\n",
       "      <td>3</td>\n",
       "    </tr>\n",
       "    <tr>\n",
       "      <th>1</th>\n",
       "      <td>0</td>\n",
       "      <td>0</td>\n",
       "      <td>0</td>\n",
       "      <td>0</td>\n",
       "      <td>0.224490</td>\n",
       "      <td>1</td>\n",
       "      <td>0</td>\n",
       "      <td>0</td>\n",
       "      <td>1</td>\n",
       "      <td>7</td>\n",
       "      <td>6</td>\n",
       "      <td>1</td>\n",
       "    </tr>\n",
       "    <tr>\n",
       "      <th>2</th>\n",
       "      <td>0</td>\n",
       "      <td>1</td>\n",
       "      <td>1</td>\n",
       "      <td>1</td>\n",
       "      <td>0.285714</td>\n",
       "      <td>0</td>\n",
       "      <td>0</td>\n",
       "      <td>0</td>\n",
       "      <td>0</td>\n",
       "      <td>9</td>\n",
       "      <td>4</td>\n",
       "      <td>8</td>\n",
       "    </tr>\n",
       "  </tbody>\n",
       "</table>\n",
       "</div>"
      ],
      "text/plain": [
       "   HeartDiseaseorAttack  HighBP  HighChol  CholCheck       BMI  Smoker  \\\n",
       "0                     0       1         1          1  0.530612       1   \n",
       "1                     0       0         0          0  0.224490       1   \n",
       "2                     0       1         1          1  0.285714       0   \n",
       "\n",
       "   Stroke  Diabetes  PhysActivity  Age  Education  Income  \n",
       "0       0         0             0    9          4       3  \n",
       "1       0         0             1    7          6       1  \n",
       "2       0         0             0    9          4       8  "
      ]
     },
     "execution_count": 10,
     "metadata": {},
     "output_type": "execute_result"
    }
   ],
   "source": [
    "df.head(3)"
   ]
  },
  {
   "cell_type": "code",
   "execution_count": 11,
   "id": "6f575dca",
   "metadata": {
    "tags": []
   },
   "outputs": [
    {
     "name": "stdout",
     "output_type": "stream",
     "text": [
      "Lable: Heart Diseaseor Attack corrlation\n"
     ]
    },
    {
     "data": {
      "text/plain": [
       "HeartDiseaseorAttack    1.000000\n",
       "Stroke                  0.236051\n",
       "Age                     0.205558\n",
       "HighChol                0.196005\n",
       "HighBP                  0.188035\n",
       "Diabetes                0.160559\n",
       "Smoker                  0.090910\n",
       "BMI                     0.065190\n",
       "CholCheck               0.026850\n",
       "Education              -0.071564\n",
       "PhysActivity           -0.093499\n",
       "Income                 -0.151755\n",
       "Name: HeartDiseaseorAttack, dtype: float64"
      ]
     },
     "execution_count": 11,
     "metadata": {},
     "output_type": "execute_result"
    }
   ],
   "source": [
    "corr_matrix = df.corr()\n",
    "print(\"Lable: Heart Diseaseor Attack corrlation\")\n",
    "corr_matrix[\"HeartDiseaseorAttack\"].sort_values(ascending=False)"
   ]
  },
  {
   "cell_type": "code",
   "execution_count": 23,
   "id": "eaa07bfc-9e4f-4402-9850-f0da8efebc31",
   "metadata": {},
   "outputs": [
    {
     "data": {
      "text/html": [
       "<div>\n",
       "<style scoped>\n",
       "    .dataframe tbody tr th:only-of-type {\n",
       "        vertical-align: middle;\n",
       "    }\n",
       "\n",
       "    .dataframe tbody tr th {\n",
       "        vertical-align: top;\n",
       "    }\n",
       "\n",
       "    .dataframe thead th {\n",
       "        text-align: right;\n",
       "    }\n",
       "</style>\n",
       "<table border=\"1\" class=\"dataframe\">\n",
       "  <thead>\n",
       "    <tr style=\"text-align: right;\">\n",
       "      <th></th>\n",
       "      <th>HeartDiseaseorAttack</th>\n",
       "      <th>HighBP</th>\n",
       "      <th>HighChol</th>\n",
       "      <th>CholCheck</th>\n",
       "      <th>BMI</th>\n",
       "      <th>Smoker</th>\n",
       "      <th>Stroke</th>\n",
       "      <th>Diabetes</th>\n",
       "      <th>PhysActivity</th>\n",
       "      <th>Age</th>\n",
       "      <th>Education</th>\n",
       "      <th>Income</th>\n",
       "    </tr>\n",
       "  </thead>\n",
       "  <tbody>\n",
       "    <tr>\n",
       "      <th>0</th>\n",
       "      <td>0</td>\n",
       "      <td>1</td>\n",
       "      <td>1</td>\n",
       "      <td>1</td>\n",
       "      <td>0.530612</td>\n",
       "      <td>1</td>\n",
       "      <td>0</td>\n",
       "      <td>0</td>\n",
       "      <td>0</td>\n",
       "      <td>9</td>\n",
       "      <td>4</td>\n",
       "      <td>3</td>\n",
       "    </tr>\n",
       "    <tr>\n",
       "      <th>1</th>\n",
       "      <td>0</td>\n",
       "      <td>0</td>\n",
       "      <td>0</td>\n",
       "      <td>0</td>\n",
       "      <td>0.224490</td>\n",
       "      <td>1</td>\n",
       "      <td>0</td>\n",
       "      <td>0</td>\n",
       "      <td>1</td>\n",
       "      <td>7</td>\n",
       "      <td>6</td>\n",
       "      <td>1</td>\n",
       "    </tr>\n",
       "    <tr>\n",
       "      <th>2</th>\n",
       "      <td>0</td>\n",
       "      <td>1</td>\n",
       "      <td>1</td>\n",
       "      <td>1</td>\n",
       "      <td>0.285714</td>\n",
       "      <td>0</td>\n",
       "      <td>0</td>\n",
       "      <td>0</td>\n",
       "      <td>0</td>\n",
       "      <td>9</td>\n",
       "      <td>4</td>\n",
       "      <td>8</td>\n",
       "    </tr>\n",
       "  </tbody>\n",
       "</table>\n",
       "</div>"
      ],
      "text/plain": [
       "   HeartDiseaseorAttack  HighBP  HighChol  CholCheck       BMI  Smoker  \\\n",
       "0                     0       1         1          1  0.530612       1   \n",
       "1                     0       0         0          0  0.224490       1   \n",
       "2                     0       1         1          1  0.285714       0   \n",
       "\n",
       "   Stroke  Diabetes  PhysActivity  Age  Education  Income  \n",
       "0       0         0             0    9          4       3  \n",
       "1       0         0             1    7          6       1  \n",
       "2       0         0             0    9          4       8  "
      ]
     },
     "execution_count": 23,
     "metadata": {},
     "output_type": "execute_result"
    }
   ],
   "source": [
    "# According to High Correlation Filter algorithm, drop CholCheck,BMI,Education\n",
    "df.drop(['CholCheck','BMI','Education','PhysActivity','Smoker','Income'],axis=1)\n",
    "df.head(3)"
   ]
  },
  {
   "cell_type": "markdown",
   "id": "6558e7d4",
   "metadata": {},
   "source": [
    "#### Question 7 \n",
    "You are required to create a prediction model to predict 'HeartDiseaseorAttack' based on GaussianNB model using the dataset that you have preprocessed until question 6. The training size is 80% and testing is 20%. Use split validation to validate your model.(5 marks)"
   ]
  },
  {
   "cell_type": "code",
   "execution_count": 30,
   "id": "963830a1-3db4-4275-b740-1e531e0cd389",
   "metadata": {},
   "outputs": [],
   "source": [
    "from sklearn.model_selection import train_test_split\n",
    "\n",
    "X = df.drop(['HeartDiseaseorAttack'], axis=1)\n",
    "y = df[\"HeartDiseaseorAttack\"]\n",
    "#print(f' X_shape: {X.shape} \\n y_shape: {y.shape}')\n",
    "#Xtrain, Xtest, ytrain, ytest = train_test_split(X_df, Y_df,random_state=123, test_size=0.2)\n",
    "# X_train, X_test, y_train, y_test = train_test_split(X,y,test_size=0.20,shuffle=True,random_state=0)\n",
    "# from sklearn.model_selection import train_test_split\n",
    "Xtrain, Xtest, ytrain, ytest = train_test_split(X, y,random_state=2, test_size=0.2)\n",
    "from sklearn.naive_bayes import GaussianNB\n",
    "model_gnb = GaussianNB()\n",
    "model_gnb.fit(X_train,y_train)\n",
    "pred = model_gnb.predict(X_test)"
   ]
  },
  {
   "cell_type": "code",
   "execution_count": 31,
   "id": "f975d0af-6602-4c86-ad4f-d52b0445e6d3",
   "metadata": {},
   "outputs": [
    {
     "data": {
      "text/html": [
       "<div>\n",
       "<style scoped>\n",
       "    .dataframe tbody tr th:only-of-type {\n",
       "        vertical-align: middle;\n",
       "    }\n",
       "\n",
       "    .dataframe tbody tr th {\n",
       "        vertical-align: top;\n",
       "    }\n",
       "\n",
       "    .dataframe thead th {\n",
       "        text-align: right;\n",
       "    }\n",
       "</style>\n",
       "<table border=\"1\" class=\"dataframe\">\n",
       "  <thead>\n",
       "    <tr style=\"text-align: right;\">\n",
       "      <th></th>\n",
       "      <th>Accuracy</th>\n",
       "    </tr>\n",
       "  </thead>\n",
       "  <tbody>\n",
       "    <tr>\n",
       "      <th>GaussianNB</th>\n",
       "      <td>0.838</td>\n",
       "    </tr>\n",
       "  </tbody>\n",
       "</table>\n",
       "</div>"
      ],
      "text/plain": [
       "            Accuracy\n",
       "GaussianNB     0.838"
      ]
     },
     "execution_count": 31,
     "metadata": {},
     "output_type": "execute_result"
    }
   ],
   "source": [
    "from sklearn.metrics import accuracy_score\n",
    "#accuracy_score(ytest, y_model)\n",
    "gnb = accuracy_score(y_test,pred)\n",
    "acc = [gnb]\n",
    "labels = ['GaussianNB']\n",
    "accs = {'Accuracy': acc}\n",
    "gnb_score = pd.DataFrame(accs,index=labels)\n",
    "gnb_score"
   ]
  },
  {
   "cell_type": "markdown",
   "id": "d2abd82a",
   "metadata": {},
   "source": [
    "#### END "
   ]
  }
 ],
 "metadata": {
  "kernelspec": {
   "display_name": "Python 3 (ipykernel)",
   "language": "python",
   "name": "python3"
  },
  "language_info": {
   "codemirror_mode": {
    "name": "ipython",
    "version": 3
   },
   "file_extension": ".py",
   "mimetype": "text/x-python",
   "name": "python",
   "nbconvert_exporter": "python",
   "pygments_lexer": "ipython3",
   "version": "3.9.7"
  }
 },
 "nbformat": 4,
 "nbformat_minor": 5
}
